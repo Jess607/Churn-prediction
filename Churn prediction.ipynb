{
 "cells": [
  {
   "cell_type": "code",
   "execution_count": 289,
   "id": "24331a91",
   "metadata": {},
   "outputs": [],
   "source": [
    "import numpy as np\n",
    "import pandas as pd\n",
    "import matplotlib.pyplot as plt\n",
    "import seaborn as sns"
   ]
  },
  {
   "cell_type": "code",
   "execution_count": 290,
   "id": "749a663b",
   "metadata": {},
   "outputs": [
    {
     "data": {
      "text/html": [
       "<div>\n",
       "<style scoped>\n",
       "    .dataframe tbody tr th:only-of-type {\n",
       "        vertical-align: middle;\n",
       "    }\n",
       "\n",
       "    .dataframe tbody tr th {\n",
       "        vertical-align: top;\n",
       "    }\n",
       "\n",
       "    .dataframe thead th {\n",
       "        text-align: right;\n",
       "    }\n",
       "</style>\n",
       "<table border=\"1\" class=\"dataframe\">\n",
       "  <thead>\n",
       "    <tr style=\"text-align: right;\">\n",
       "      <th></th>\n",
       "      <th>Row</th>\n",
       "      <th>Id</th>\n",
       "      <th>Surname</th>\n",
       "      <th>Score</th>\n",
       "      <th>Nationality</th>\n",
       "      <th>Gender</th>\n",
       "      <th>Age</th>\n",
       "      <th>Tenure</th>\n",
       "      <th>Balance</th>\n",
       "      <th>Products</th>\n",
       "      <th>Card</th>\n",
       "      <th>Active</th>\n",
       "      <th>Salary</th>\n",
       "      <th>Exited</th>\n",
       "    </tr>\n",
       "  </thead>\n",
       "  <tbody>\n",
       "    <tr>\n",
       "      <th>0</th>\n",
       "      <td>1</td>\n",
       "      <td>15634602</td>\n",
       "      <td>Hargrave</td>\n",
       "      <td>619</td>\n",
       "      <td>France</td>\n",
       "      <td>Female</td>\n",
       "      <td>42</td>\n",
       "      <td>2</td>\n",
       "      <td>0.00</td>\n",
       "      <td>1</td>\n",
       "      <td>1</td>\n",
       "      <td>1</td>\n",
       "      <td>101348.88</td>\n",
       "      <td>1</td>\n",
       "    </tr>\n",
       "    <tr>\n",
       "      <th>1</th>\n",
       "      <td>2</td>\n",
       "      <td>15647311</td>\n",
       "      <td>Hill</td>\n",
       "      <td>608</td>\n",
       "      <td>Spain</td>\n",
       "      <td>Female</td>\n",
       "      <td>41</td>\n",
       "      <td>1</td>\n",
       "      <td>83807.86</td>\n",
       "      <td>1</td>\n",
       "      <td>0</td>\n",
       "      <td>1</td>\n",
       "      <td>112542.58</td>\n",
       "      <td>0</td>\n",
       "    </tr>\n",
       "    <tr>\n",
       "      <th>2</th>\n",
       "      <td>3</td>\n",
       "      <td>15619304</td>\n",
       "      <td>Onio</td>\n",
       "      <td>502</td>\n",
       "      <td>France</td>\n",
       "      <td>Female</td>\n",
       "      <td>42</td>\n",
       "      <td>8</td>\n",
       "      <td>159660.80</td>\n",
       "      <td>3</td>\n",
       "      <td>1</td>\n",
       "      <td>0</td>\n",
       "      <td>113931.57</td>\n",
       "      <td>1</td>\n",
       "    </tr>\n",
       "    <tr>\n",
       "      <th>3</th>\n",
       "      <td>4</td>\n",
       "      <td>15701354</td>\n",
       "      <td>Boni</td>\n",
       "      <td>699</td>\n",
       "      <td>France</td>\n",
       "      <td>Female</td>\n",
       "      <td>39</td>\n",
       "      <td>1</td>\n",
       "      <td>0.00</td>\n",
       "      <td>2</td>\n",
       "      <td>0</td>\n",
       "      <td>0</td>\n",
       "      <td>93826.63</td>\n",
       "      <td>0</td>\n",
       "    </tr>\n",
       "    <tr>\n",
       "      <th>4</th>\n",
       "      <td>5</td>\n",
       "      <td>15737888</td>\n",
       "      <td>Mitchell</td>\n",
       "      <td>850</td>\n",
       "      <td>Spain</td>\n",
       "      <td>Female</td>\n",
       "      <td>43</td>\n",
       "      <td>2</td>\n",
       "      <td>125510.82</td>\n",
       "      <td>1</td>\n",
       "      <td>1</td>\n",
       "      <td>1</td>\n",
       "      <td>79084.10</td>\n",
       "      <td>0</td>\n",
       "    </tr>\n",
       "    <tr>\n",
       "      <th>...</th>\n",
       "      <td>...</td>\n",
       "      <td>...</td>\n",
       "      <td>...</td>\n",
       "      <td>...</td>\n",
       "      <td>...</td>\n",
       "      <td>...</td>\n",
       "      <td>...</td>\n",
       "      <td>...</td>\n",
       "      <td>...</td>\n",
       "      <td>...</td>\n",
       "      <td>...</td>\n",
       "      <td>...</td>\n",
       "      <td>...</td>\n",
       "      <td>...</td>\n",
       "    </tr>\n",
       "    <tr>\n",
       "      <th>9995</th>\n",
       "      <td>9996</td>\n",
       "      <td>15606229</td>\n",
       "      <td>Obijiaku</td>\n",
       "      <td>771</td>\n",
       "      <td>France</td>\n",
       "      <td>Male</td>\n",
       "      <td>39</td>\n",
       "      <td>5</td>\n",
       "      <td>0.00</td>\n",
       "      <td>2</td>\n",
       "      <td>1</td>\n",
       "      <td>0</td>\n",
       "      <td>96270.64</td>\n",
       "      <td>0</td>\n",
       "    </tr>\n",
       "    <tr>\n",
       "      <th>9996</th>\n",
       "      <td>9997</td>\n",
       "      <td>15569892</td>\n",
       "      <td>Johnstone</td>\n",
       "      <td>516</td>\n",
       "      <td>France</td>\n",
       "      <td>Male</td>\n",
       "      <td>35</td>\n",
       "      <td>10</td>\n",
       "      <td>57369.61</td>\n",
       "      <td>1</td>\n",
       "      <td>1</td>\n",
       "      <td>1</td>\n",
       "      <td>101699.77</td>\n",
       "      <td>0</td>\n",
       "    </tr>\n",
       "    <tr>\n",
       "      <th>9997</th>\n",
       "      <td>9998</td>\n",
       "      <td>15584532</td>\n",
       "      <td>Liu</td>\n",
       "      <td>709</td>\n",
       "      <td>France</td>\n",
       "      <td>Female</td>\n",
       "      <td>36</td>\n",
       "      <td>7</td>\n",
       "      <td>0.00</td>\n",
       "      <td>1</td>\n",
       "      <td>0</td>\n",
       "      <td>1</td>\n",
       "      <td>42085.58</td>\n",
       "      <td>1</td>\n",
       "    </tr>\n",
       "    <tr>\n",
       "      <th>9998</th>\n",
       "      <td>9999</td>\n",
       "      <td>15682355</td>\n",
       "      <td>Sabbatini</td>\n",
       "      <td>772</td>\n",
       "      <td>Germany</td>\n",
       "      <td>Male</td>\n",
       "      <td>42</td>\n",
       "      <td>3</td>\n",
       "      <td>75075.31</td>\n",
       "      <td>2</td>\n",
       "      <td>1</td>\n",
       "      <td>0</td>\n",
       "      <td>92888.52</td>\n",
       "      <td>1</td>\n",
       "    </tr>\n",
       "    <tr>\n",
       "      <th>9999</th>\n",
       "      <td>10000</td>\n",
       "      <td>15628319</td>\n",
       "      <td>Walker</td>\n",
       "      <td>792</td>\n",
       "      <td>France</td>\n",
       "      <td>Female</td>\n",
       "      <td>28</td>\n",
       "      <td>4</td>\n",
       "      <td>130142.79</td>\n",
       "      <td>1</td>\n",
       "      <td>1</td>\n",
       "      <td>0</td>\n",
       "      <td>38190.78</td>\n",
       "      <td>0</td>\n",
       "    </tr>\n",
       "  </tbody>\n",
       "</table>\n",
       "<p>10000 rows × 14 columns</p>\n",
       "</div>"
      ],
      "text/plain": [
       "        Row        Id    Surname  Score Nationality  Gender  Age  Tenure  \\\n",
       "0         1  15634602   Hargrave    619      France  Female   42       2   \n",
       "1         2  15647311       Hill    608       Spain  Female   41       1   \n",
       "2         3  15619304       Onio    502      France  Female   42       8   \n",
       "3         4  15701354       Boni    699      France  Female   39       1   \n",
       "4         5  15737888   Mitchell    850       Spain  Female   43       2   \n",
       "...     ...       ...        ...    ...         ...     ...  ...     ...   \n",
       "9995   9996  15606229   Obijiaku    771      France    Male   39       5   \n",
       "9996   9997  15569892  Johnstone    516      France    Male   35      10   \n",
       "9997   9998  15584532        Liu    709      France  Female   36       7   \n",
       "9998   9999  15682355  Sabbatini    772     Germany    Male   42       3   \n",
       "9999  10000  15628319     Walker    792      France  Female   28       4   \n",
       "\n",
       "        Balance  Products  Card  Active     Salary  Exited  \n",
       "0          0.00         1     1       1  101348.88       1  \n",
       "1      83807.86         1     0       1  112542.58       0  \n",
       "2     159660.80         3     1       0  113931.57       1  \n",
       "3          0.00         2     0       0   93826.63       0  \n",
       "4     125510.82         1     1       1   79084.10       0  \n",
       "...         ...       ...   ...     ...        ...     ...  \n",
       "9995       0.00         2     1       0   96270.64       0  \n",
       "9996   57369.61         1     1       1  101699.77       0  \n",
       "9997       0.00         1     0       1   42085.58       1  \n",
       "9998   75075.31         2     1       0   92888.52       1  \n",
       "9999  130142.79         1     1       0   38190.78       0  \n",
       "\n",
       "[10000 rows x 14 columns]"
      ]
     },
     "execution_count": 290,
     "metadata": {},
     "output_type": "execute_result"
    }
   ],
   "source": [
    "df=pd.read_csv('churn_prediction.csv')\n",
    "df"
   ]
  },
  {
   "cell_type": "code",
   "execution_count": 291,
   "id": "ec73133c",
   "metadata": {},
   "outputs": [
    {
     "data": {
      "text/plain": [
       "(10000, 14)"
      ]
     },
     "execution_count": 291,
     "metadata": {},
     "output_type": "execute_result"
    }
   ],
   "source": [
    "df.shape"
   ]
  },
  {
   "cell_type": "code",
   "execution_count": 292,
   "id": "56fb75ab",
   "metadata": {},
   "outputs": [
    {
     "data": {
      "text/html": [
       "<div>\n",
       "<style scoped>\n",
       "    .dataframe tbody tr th:only-of-type {\n",
       "        vertical-align: middle;\n",
       "    }\n",
       "\n",
       "    .dataframe tbody tr th {\n",
       "        vertical-align: top;\n",
       "    }\n",
       "\n",
       "    .dataframe thead th {\n",
       "        text-align: right;\n",
       "    }\n",
       "</style>\n",
       "<table border=\"1\" class=\"dataframe\">\n",
       "  <thead>\n",
       "    <tr style=\"text-align: right;\">\n",
       "      <th></th>\n",
       "      <th>Row</th>\n",
       "      <th>Id</th>\n",
       "      <th>Score</th>\n",
       "      <th>Age</th>\n",
       "      <th>Tenure</th>\n",
       "      <th>Balance</th>\n",
       "      <th>Products</th>\n",
       "      <th>Card</th>\n",
       "      <th>Active</th>\n",
       "      <th>Salary</th>\n",
       "      <th>Exited</th>\n",
       "    </tr>\n",
       "  </thead>\n",
       "  <tbody>\n",
       "    <tr>\n",
       "      <th>count</th>\n",
       "      <td>10000.00000</td>\n",
       "      <td>1.000000e+04</td>\n",
       "      <td>10000.000000</td>\n",
       "      <td>10000.000000</td>\n",
       "      <td>10000.000000</td>\n",
       "      <td>10000.000000</td>\n",
       "      <td>10000.000000</td>\n",
       "      <td>10000.00000</td>\n",
       "      <td>10000.000000</td>\n",
       "      <td>10000.000000</td>\n",
       "      <td>10000.000000</td>\n",
       "    </tr>\n",
       "    <tr>\n",
       "      <th>mean</th>\n",
       "      <td>5000.50000</td>\n",
       "      <td>1.569094e+07</td>\n",
       "      <td>650.528800</td>\n",
       "      <td>38.921800</td>\n",
       "      <td>5.012800</td>\n",
       "      <td>76485.889288</td>\n",
       "      <td>1.530200</td>\n",
       "      <td>0.70550</td>\n",
       "      <td>0.515100</td>\n",
       "      <td>100090.239881</td>\n",
       "      <td>0.203700</td>\n",
       "    </tr>\n",
       "    <tr>\n",
       "      <th>std</th>\n",
       "      <td>2886.89568</td>\n",
       "      <td>7.193619e+04</td>\n",
       "      <td>96.653299</td>\n",
       "      <td>10.487806</td>\n",
       "      <td>2.892174</td>\n",
       "      <td>62397.405202</td>\n",
       "      <td>0.581654</td>\n",
       "      <td>0.45584</td>\n",
       "      <td>0.499797</td>\n",
       "      <td>57510.492818</td>\n",
       "      <td>0.402769</td>\n",
       "    </tr>\n",
       "    <tr>\n",
       "      <th>min</th>\n",
       "      <td>1.00000</td>\n",
       "      <td>1.556570e+07</td>\n",
       "      <td>350.000000</td>\n",
       "      <td>18.000000</td>\n",
       "      <td>0.000000</td>\n",
       "      <td>0.000000</td>\n",
       "      <td>1.000000</td>\n",
       "      <td>0.00000</td>\n",
       "      <td>0.000000</td>\n",
       "      <td>11.580000</td>\n",
       "      <td>0.000000</td>\n",
       "    </tr>\n",
       "    <tr>\n",
       "      <th>25%</th>\n",
       "      <td>2500.75000</td>\n",
       "      <td>1.562853e+07</td>\n",
       "      <td>584.000000</td>\n",
       "      <td>32.000000</td>\n",
       "      <td>3.000000</td>\n",
       "      <td>0.000000</td>\n",
       "      <td>1.000000</td>\n",
       "      <td>0.00000</td>\n",
       "      <td>0.000000</td>\n",
       "      <td>51002.110000</td>\n",
       "      <td>0.000000</td>\n",
       "    </tr>\n",
       "    <tr>\n",
       "      <th>50%</th>\n",
       "      <td>5000.50000</td>\n",
       "      <td>1.569074e+07</td>\n",
       "      <td>652.000000</td>\n",
       "      <td>37.000000</td>\n",
       "      <td>5.000000</td>\n",
       "      <td>97198.540000</td>\n",
       "      <td>1.000000</td>\n",
       "      <td>1.00000</td>\n",
       "      <td>1.000000</td>\n",
       "      <td>100193.915000</td>\n",
       "      <td>0.000000</td>\n",
       "    </tr>\n",
       "    <tr>\n",
       "      <th>75%</th>\n",
       "      <td>7500.25000</td>\n",
       "      <td>1.575323e+07</td>\n",
       "      <td>718.000000</td>\n",
       "      <td>44.000000</td>\n",
       "      <td>7.000000</td>\n",
       "      <td>127644.240000</td>\n",
       "      <td>2.000000</td>\n",
       "      <td>1.00000</td>\n",
       "      <td>1.000000</td>\n",
       "      <td>149388.247500</td>\n",
       "      <td>0.000000</td>\n",
       "    </tr>\n",
       "    <tr>\n",
       "      <th>max</th>\n",
       "      <td>10000.00000</td>\n",
       "      <td>1.581569e+07</td>\n",
       "      <td>850.000000</td>\n",
       "      <td>92.000000</td>\n",
       "      <td>10.000000</td>\n",
       "      <td>250898.090000</td>\n",
       "      <td>4.000000</td>\n",
       "      <td>1.00000</td>\n",
       "      <td>1.000000</td>\n",
       "      <td>199992.480000</td>\n",
       "      <td>1.000000</td>\n",
       "    </tr>\n",
       "  </tbody>\n",
       "</table>\n",
       "</div>"
      ],
      "text/plain": [
       "               Row            Id         Score           Age        Tenure  \\\n",
       "count  10000.00000  1.000000e+04  10000.000000  10000.000000  10000.000000   \n",
       "mean    5000.50000  1.569094e+07    650.528800     38.921800      5.012800   \n",
       "std     2886.89568  7.193619e+04     96.653299     10.487806      2.892174   \n",
       "min        1.00000  1.556570e+07    350.000000     18.000000      0.000000   \n",
       "25%     2500.75000  1.562853e+07    584.000000     32.000000      3.000000   \n",
       "50%     5000.50000  1.569074e+07    652.000000     37.000000      5.000000   \n",
       "75%     7500.25000  1.575323e+07    718.000000     44.000000      7.000000   \n",
       "max    10000.00000  1.581569e+07    850.000000     92.000000     10.000000   \n",
       "\n",
       "             Balance      Products         Card        Active         Salary  \\\n",
       "count   10000.000000  10000.000000  10000.00000  10000.000000   10000.000000   \n",
       "mean    76485.889288      1.530200      0.70550      0.515100  100090.239881   \n",
       "std     62397.405202      0.581654      0.45584      0.499797   57510.492818   \n",
       "min         0.000000      1.000000      0.00000      0.000000      11.580000   \n",
       "25%         0.000000      1.000000      0.00000      0.000000   51002.110000   \n",
       "50%     97198.540000      1.000000      1.00000      1.000000  100193.915000   \n",
       "75%    127644.240000      2.000000      1.00000      1.000000  149388.247500   \n",
       "max    250898.090000      4.000000      1.00000      1.000000  199992.480000   \n",
       "\n",
       "             Exited  \n",
       "count  10000.000000  \n",
       "mean       0.203700  \n",
       "std        0.402769  \n",
       "min        0.000000  \n",
       "25%        0.000000  \n",
       "50%        0.000000  \n",
       "75%        0.000000  \n",
       "max        1.000000  "
      ]
     },
     "execution_count": 292,
     "metadata": {},
     "output_type": "execute_result"
    }
   ],
   "source": [
    "df.describe()"
   ]
  },
  {
   "cell_type": "code",
   "execution_count": 293,
   "id": "54ba81a5",
   "metadata": {},
   "outputs": [
    {
     "name": "stdout",
     "output_type": "stream",
     "text": [
      "<class 'pandas.core.frame.DataFrame'>\n",
      "RangeIndex: 10000 entries, 0 to 9999\n",
      "Data columns (total 14 columns):\n",
      " #   Column       Non-Null Count  Dtype  \n",
      "---  ------       --------------  -----  \n",
      " 0   Row          10000 non-null  int64  \n",
      " 1   Id           10000 non-null  int64  \n",
      " 2   Surname      10000 non-null  object \n",
      " 3   Score        10000 non-null  int64  \n",
      " 4   Nationality  10000 non-null  object \n",
      " 5   Gender       10000 non-null  object \n",
      " 6   Age          10000 non-null  int64  \n",
      " 7   Tenure       10000 non-null  int64  \n",
      " 8   Balance      10000 non-null  float64\n",
      " 9   Products     10000 non-null  int64  \n",
      " 10  Card         10000 non-null  int64  \n",
      " 11  Active       10000 non-null  int64  \n",
      " 12  Salary       10000 non-null  float64\n",
      " 13  Exited       10000 non-null  int64  \n",
      "dtypes: float64(2), int64(9), object(3)\n",
      "memory usage: 1.1+ MB\n"
     ]
    }
   ],
   "source": [
    "df.info()"
   ]
  },
  {
   "cell_type": "code",
   "execution_count": 294,
   "id": "592ba128",
   "metadata": {},
   "outputs": [
    {
     "data": {
      "text/plain": [
       "Row            0\n",
       "Id             0\n",
       "Surname        0\n",
       "Score          0\n",
       "Nationality    0\n",
       "Gender         0\n",
       "Age            0\n",
       "Tenure         0\n",
       "Balance        0\n",
       "Products       0\n",
       "Card           0\n",
       "Active         0\n",
       "Salary         0\n",
       "Exited         0\n",
       "dtype: int64"
      ]
     },
     "execution_count": 294,
     "metadata": {},
     "output_type": "execute_result"
    }
   ],
   "source": [
    "df.isna().sum()"
   ]
  },
  {
   "cell_type": "markdown",
   "id": "0d2f586c",
   "metadata": {},
   "source": [
    "__Exploratory Data Analysis__"
   ]
  },
  {
   "cell_type": "code",
   "execution_count": 295,
   "id": "5031e9fe",
   "metadata": {},
   "outputs": [
    {
     "data": {
      "text/plain": [
       "array(['France', 'Spain', 'Germany'], dtype=object)"
      ]
     },
     "execution_count": 295,
     "metadata": {},
     "output_type": "execute_result"
    }
   ],
   "source": [
    "df['Nationality'].unique()"
   ]
  },
  {
   "cell_type": "code",
   "execution_count": 296,
   "id": "b2fe9535",
   "metadata": {},
   "outputs": [
    {
     "name": "stdout",
     "output_type": "stream",
     "text": [
      "There are 5014 customers from France\n",
      "There are 2477 customers from Spain\n",
      "There are 2509 customers from Germany\n"
     ]
    }
   ],
   "source": [
    "print('There are {} customers from France'.format(len(df[df['Nationality']=='France'])))\n",
    "print('There are {} customers from Spain'.format(len(df[df['Nationality']=='Spain'])))\n",
    "print('There are {} customers from Germany'.format(len(df[df['Nationality']=='Germany'])))"
   ]
  },
  {
   "cell_type": "markdown",
   "id": "bc3ca60a",
   "metadata": {},
   "source": [
    "This service has most of its customers being of French nationality"
   ]
  },
  {
   "cell_type": "code",
   "execution_count": 297,
   "id": "66c5eeec",
   "metadata": {},
   "outputs": [
    {
     "name": "stdout",
     "output_type": "stream",
     "text": [
      "There are 4543 female customers\n",
      "There are 5457 male customers\n"
     ]
    }
   ],
   "source": [
    "print('There are {} female customers'.format(len(df[df['Gender']=='Female'])))\n",
    "print('There are {} male customers'.format(len(df[df['Gender']=='Male'])))"
   ]
  },
  {
   "cell_type": "code",
   "execution_count": 298,
   "id": "dc0fd283",
   "metadata": {},
   "outputs": [
    {
     "name": "stdout",
     "output_type": "stream",
     "text": [
      "The churn rate is 20.369999999999997 %\n"
     ]
    }
   ],
   "source": [
    "print('The churn rate is {} %'.format(len(df[df['Exited']==1])/len(df) *100))"
   ]
  },
  {
   "cell_type": "markdown",
   "id": "b6d43076",
   "metadata": {},
   "source": [
    "This means that about 2000 customers left the service during the period in question"
   ]
  },
  {
   "cell_type": "code",
   "execution_count": 299,
   "id": "7983b5e8",
   "metadata": {},
   "outputs": [
    {
     "data": {
      "text/html": [
       "<div>\n",
       "<style scoped>\n",
       "    .dataframe tbody tr th:only-of-type {\n",
       "        vertical-align: middle;\n",
       "    }\n",
       "\n",
       "    .dataframe tbody tr th {\n",
       "        vertical-align: top;\n",
       "    }\n",
       "\n",
       "    .dataframe thead th {\n",
       "        text-align: right;\n",
       "    }\n",
       "</style>\n",
       "<table border=\"1\" class=\"dataframe\">\n",
       "  <thead>\n",
       "    <tr style=\"text-align: right;\">\n",
       "      <th></th>\n",
       "      <th>Row</th>\n",
       "      <th>Id</th>\n",
       "      <th>Surname</th>\n",
       "      <th>Score</th>\n",
       "      <th>Nationality</th>\n",
       "      <th>Gender</th>\n",
       "      <th>Age</th>\n",
       "      <th>Tenure</th>\n",
       "      <th>Balance</th>\n",
       "      <th>Products</th>\n",
       "      <th>Card</th>\n",
       "      <th>Active</th>\n",
       "      <th>Salary</th>\n",
       "      <th>Exited</th>\n",
       "    </tr>\n",
       "  </thead>\n",
       "  <tbody>\n",
       "    <tr>\n",
       "      <th>0</th>\n",
       "      <td>1</td>\n",
       "      <td>15634602</td>\n",
       "      <td>Hargrave</td>\n",
       "      <td>619</td>\n",
       "      <td>France</td>\n",
       "      <td>Female</td>\n",
       "      <td>42</td>\n",
       "      <td>2</td>\n",
       "      <td>0.00</td>\n",
       "      <td>1</td>\n",
       "      <td>1</td>\n",
       "      <td>1</td>\n",
       "      <td>101348.88</td>\n",
       "      <td>1</td>\n",
       "    </tr>\n",
       "    <tr>\n",
       "      <th>2</th>\n",
       "      <td>3</td>\n",
       "      <td>15619304</td>\n",
       "      <td>Onio</td>\n",
       "      <td>502</td>\n",
       "      <td>France</td>\n",
       "      <td>Female</td>\n",
       "      <td>42</td>\n",
       "      <td>8</td>\n",
       "      <td>159660.80</td>\n",
       "      <td>3</td>\n",
       "      <td>1</td>\n",
       "      <td>0</td>\n",
       "      <td>113931.57</td>\n",
       "      <td>1</td>\n",
       "    </tr>\n",
       "    <tr>\n",
       "      <th>5</th>\n",
       "      <td>6</td>\n",
       "      <td>15574012</td>\n",
       "      <td>Chu</td>\n",
       "      <td>645</td>\n",
       "      <td>Spain</td>\n",
       "      <td>Male</td>\n",
       "      <td>44</td>\n",
       "      <td>8</td>\n",
       "      <td>113755.78</td>\n",
       "      <td>2</td>\n",
       "      <td>1</td>\n",
       "      <td>0</td>\n",
       "      <td>149756.71</td>\n",
       "      <td>1</td>\n",
       "    </tr>\n",
       "    <tr>\n",
       "      <th>7</th>\n",
       "      <td>8</td>\n",
       "      <td>15656148</td>\n",
       "      <td>Obinna</td>\n",
       "      <td>376</td>\n",
       "      <td>Germany</td>\n",
       "      <td>Female</td>\n",
       "      <td>29</td>\n",
       "      <td>4</td>\n",
       "      <td>115046.74</td>\n",
       "      <td>4</td>\n",
       "      <td>1</td>\n",
       "      <td>0</td>\n",
       "      <td>119346.88</td>\n",
       "      <td>1</td>\n",
       "    </tr>\n",
       "    <tr>\n",
       "      <th>16</th>\n",
       "      <td>17</td>\n",
       "      <td>15737452</td>\n",
       "      <td>Romeo</td>\n",
       "      <td>653</td>\n",
       "      <td>Germany</td>\n",
       "      <td>Male</td>\n",
       "      <td>58</td>\n",
       "      <td>1</td>\n",
       "      <td>132602.88</td>\n",
       "      <td>1</td>\n",
       "      <td>1</td>\n",
       "      <td>0</td>\n",
       "      <td>5097.67</td>\n",
       "      <td>1</td>\n",
       "    </tr>\n",
       "  </tbody>\n",
       "</table>\n",
       "</div>"
      ],
      "text/plain": [
       "    Row        Id   Surname  Score Nationality  Gender  Age  Tenure  \\\n",
       "0     1  15634602  Hargrave    619      France  Female   42       2   \n",
       "2     3  15619304      Onio    502      France  Female   42       8   \n",
       "5     6  15574012       Chu    645       Spain    Male   44       8   \n",
       "7     8  15656148    Obinna    376     Germany  Female   29       4   \n",
       "16   17  15737452     Romeo    653     Germany    Male   58       1   \n",
       "\n",
       "      Balance  Products  Card  Active     Salary  Exited  \n",
       "0        0.00         1     1       1  101348.88       1  \n",
       "2   159660.80         3     1       0  113931.57       1  \n",
       "5   113755.78         2     1       0  149756.71       1  \n",
       "7   115046.74         4     1       0  119346.88       1  \n",
       "16  132602.88         1     1       0    5097.67       1  "
      ]
     },
     "execution_count": 299,
     "metadata": {},
     "output_type": "execute_result"
    }
   ],
   "source": [
    "df_exited=df[df['Exited']==1]\n",
    "df_exited.head()"
   ]
  },
  {
   "cell_type": "code",
   "execution_count": 300,
   "id": "6d8127c1",
   "metadata": {},
   "outputs": [
    {
     "data": {
      "text/plain": [
       "<AxesSubplot:>"
      ]
     },
     "execution_count": 300,
     "metadata": {},
     "output_type": "execute_result"
    },
    {
     "data": {
      "image/png": "[encoded data removed]",
      "text/plain": [
       "<Figure size 1440x432 with 2 Axes>"
      ]
     },
     "metadata": {
      "needs_background": "light"
     },
     "output_type": "display_data"
    }
   ],
   "source": [
    "plt.figure(figsize=(20,6))\n",
    "sns.heatmap(data=df.corr(), annot=True)"
   ]
  },
  {
   "cell_type": "code",
   "execution_count": 301,
   "id": "39d505df",
   "metadata": {},
   "outputs": [
    {
     "name": "stdout",
     "output_type": "stream",
     "text": [
      "Out of the exited customers, 55.91556210112911% are females\n",
      "Out of the exited customers, 44.08443789887089% are males\n"
     ]
    }
   ],
   "source": [
    "print('Out of the exited customers, {}% are females'.format(len(df_exited[df_exited['Gender']=='Female'])/len(df_exited)*100))\n",
    "print('Out of the exited customers, {}% are males'.format(len(df_exited[df_exited['Gender']=='Male'])/len(df_exited)*100))"
   ]
  },
  {
   "cell_type": "code",
   "execution_count": 302,
   "id": "61543cae",
   "metadata": {},
   "outputs": [
    {
     "data": {
      "image/png": "[encoded data removed]",
      "text/plain": [
       "<Figure size 576x432 with 1 Axes>"
      ]
     },
     "metadata": {
      "needs_background": "light"
     },
     "output_type": "display_data"
    }
   ],
   "source": [
    "plt.figure(figsize=(8,6))\n",
    "gend=sns.countplot(x='Gender', data=df_exited)\n",
    "for g in gend.patches:\n",
    "    height=g.get_height()\n",
    "    gend.text(g.get_x()+g.get_width()/2., height+3, '{:1.3f}%'.format((height/total)*100), ha='center')\n",
    "plt.title('Count of each gender that exited')\n",
    "plt.xlabel('Gender')\n",
    "plt.show()"
   ]
  },
  {
   "cell_type": "code",
   "execution_count": 303,
   "id": "e025398f",
   "metadata": {},
   "outputs": [
    {
     "data": {
      "text/plain": [
       "array([42, 44, 29, 58, 38, 39, 45, 51, 49, 27, 41, 66, 32, 22, 46, 65, 35,\n",
       "       28, 31, 52, 56, 48, 57, 24, 55, 50, 47, 43, 54, 33, 67, 40, 34, 62,\n",
       "       30, 61, 60, 37, 59, 53, 25, 36, 63, 69, 64, 21, 23, 73, 20, 26, 18,\n",
       "       71, 74, 84, 70, 19, 68, 72], dtype=int64)"
      ]
     },
     "execution_count": 303,
     "metadata": {},
     "output_type": "execute_result"
    }
   ],
   "source": [
    "df_exited['Age'].unique()"
   ]
  },
  {
   "cell_type": "code",
   "execution_count": 304,
   "id": "f05320aa",
   "metadata": {},
   "outputs": [
    {
     "name": "stdout",
     "output_type": "stream",
     "text": [
      "The median age of the churned customers is 45.0 years\n"
     ]
    }
   ],
   "source": [
    "print('The median age of the churned customers is {} years'. format(df_exited['Age'].median()))"
   ]
  },
  {
   "cell_type": "code",
   "execution_count": 305,
   "id": "d7a11921",
   "metadata": {},
   "outputs": [
    {
     "name": "stderr",
     "output_type": "stream",
     "text": [
      "C:\\Users\\JESSICA\\anaconda3\\lib\\site-packages\\seaborn\\_decorators.py:36: FutureWarning: Pass the following variable as a keyword arg: x. From version 0.12, the only valid positional argument will be `data`, and passing other arguments without an explicit keyword will result in an error or misinterpretation.\n",
      "  warnings.warn(\n"
     ]
    },
    {
     "data": {
      "image/png": "[encoded data removed]",
      "text/plain": [
       "<Figure size 720x432 with 1 Axes>"
      ]
     },
     "metadata": {
      "needs_background": "light"
     },
     "output_type": "display_data"
    }
   ],
   "source": [
    "plt.figure(figsize=(10,6))\n",
    "sns.boxplot(df_exited['Age'])\n",
    "plt.show()"
   ]
  },
  {
   "cell_type": "code",
   "execution_count": 306,
   "id": "05618361",
   "metadata": {},
   "outputs": [
    {
     "data": {
      "text/plain": [
       "Text(0.5, 1.0, 'Histogram of age distribution')"
      ]
     },
     "execution_count": 306,
     "metadata": {},
     "output_type": "execute_result"
    },
    {
     "data": {
      "image/png": "[encoded data removed]",
      "text/plain": [
       "<Figure size 720x432 with 1 Axes>"
      ]
     },
     "metadata": {
      "needs_background": "light"
     },
     "output_type": "display_data"
    }
   ],
   "source": [
    "df_exited['Age'].hist(figsize=(10,6))\n",
    "plt.xlabel('Age distribution')\n",
    "plt.title('Histogram of age distribution')"
   ]
  },
  {
   "cell_type": "markdown",
   "id": "681c3f1b",
   "metadata": {},
   "source": [
    "From the distribution, we can see that the age of the customers with the highest churn are between about 38-44 years. The age feature is also seen to be normally distributed."
   ]
  },
  {
   "cell_type": "code",
   "execution_count": 307,
   "id": "1d0d2643",
   "metadata": {},
   "outputs": [
    {
     "data": {
      "text/plain": [
       "Text(0.5, 1.0, 'Balance distribution of churned customers')"
      ]
     },
     "execution_count": 307,
     "metadata": {},
     "output_type": "execute_result"
    },
    {
     "data": {
      "image/png": "[encoded data removed]",
      "text/plain": [
       "<Figure size 720x432 with 1 Axes>"
      ]
     },
     "metadata": {
      "needs_background": "light"
     },
     "output_type": "display_data"
    }
   ],
   "source": [
    "plt.figure(figsize=(10,6))\n",
    "df_exited['Balance'].hist()\n",
    "plt.xlabel('Balance')\n",
    "plt.title('Balance distribution of churned customers')"
   ]
  },
  {
   "cell_type": "markdown",
   "id": "b2ad83dc",
   "metadata": {},
   "source": [
    "From the plot, we can see that most customers had a balance between 100000 and 125000 and also between 0 and 25000 before exiting the service. "
   ]
  },
  {
   "cell_type": "code",
   "execution_count": 308,
   "id": "343db7a0",
   "metadata": {},
   "outputs": [
    {
     "name": "stdout",
     "output_type": "stream",
     "text": [
      "The median value balance of churned customers is 109349.29\n",
      "The mode value balance of churned customers is 0    0.0\n",
      "dtype: float64\n"
     ]
    }
   ],
   "source": [
    "print('The median value balance of churned customers is {}'. format(df_exited['Balance'].median()))\n",
    "print('The mode value balance of churned customers is {}'. format(df_exited['Balance'].mode()))"
   ]
  },
  {
   "cell_type": "code",
   "execution_count": 309,
   "id": "df85ebfe",
   "metadata": {},
   "outputs": [
    {
     "data": {
      "text/plain": [
       "Text(0.5, 1.0, 'Credit score distribution of churned customers')"
      ]
     },
     "execution_count": 309,
     "metadata": {},
     "output_type": "execute_result"
    },
    {
     "data": {
      "image/png": "[encoded data removed]",
      "text/plain": [
       "<Figure size 720x432 with 1 Axes>"
      ]
     },
     "metadata": {
      "needs_background": "light"
     },
     "output_type": "display_data"
    }
   ],
   "source": [
    "plt.figure(figsize=(10,6))\n",
    "df_exited['Score'].hist()\n",
    "plt.xlabel('Score')\n",
    "plt.title('Credit score distribution of churned customers')"
   ]
  },
  {
   "cell_type": "markdown",
   "id": "89e41115",
   "metadata": {},
   "source": [
    "Most churned customers had a credit score between 600 and 650."
   ]
  },
  {
   "cell_type": "code",
   "execution_count": 310,
   "id": "44772b42",
   "metadata": {},
   "outputs": [
    {
     "data": {
      "image/png": "[encoded data removed]",
      "text/plain": [
       "<Figure size 576x432 with 1 Axes>"
      ]
     },
     "metadata": {
      "needs_background": "light"
     },
     "output_type": "display_data"
    }
   ],
   "source": [
    "plt.figure(figsize=(8,6))\n",
    "total=float(len(df_exited['Nationality']))\n",
    "nat=sns.countplot(x='Nationality', data=df_exited)\n",
    "for n in nat.patches:\n",
    "    height=n.get_height()\n",
    "    nat.text(n.get_x()+n.get_width()/2., height+3, '{:1.3f}%'.format((height/total)*100), ha='center')\n",
    "plt.title('Count of each nationality that exited')\n",
    "plt.xlabel('Nationality')\n",
    "plt.show()"
   ]
  },
  {
   "cell_type": "code",
   "execution_count": 311,
   "id": "3ddf031e",
   "metadata": {},
   "outputs": [
    {
     "data": {
      "text/plain": [
       "Text(0.5, 1.0, 'Relationship between Age and Balance')"
      ]
     },
     "execution_count": 311,
     "metadata": {},
     "output_type": "execute_result"
    },
    {
     "data": {
      "image/png": "[encoded data removed]",
      "text/plain": [
       "<Figure size 720x576 with 1 Axes>"
      ]
     },
     "metadata": {
      "needs_background": "light"
     },
     "output_type": "display_data"
    }
   ],
   "source": [
    "plt.figure(figsize=(10,8))\n",
    "sns.lineplot(x=df_exited['Age'],y=df_exited['Balance']) \n",
    "plt.title('Relationship between Age and Balance')"
   ]
  },
  {
   "cell_type": "code",
   "execution_count": 312,
   "id": "95be00c9",
   "metadata": {},
   "outputs": [
    {
     "data": {
      "text/plain": [
       "array([1, 3, 2, 4], dtype=int64)"
      ]
     },
     "execution_count": 312,
     "metadata": {},
     "output_type": "execute_result"
    }
   ],
   "source": [
    "df['Products'].unique()"
   ]
  },
  {
   "cell_type": "code",
   "execution_count": 313,
   "id": "783900a1",
   "metadata": {},
   "outputs": [
    {
     "data": {
      "image/png": "[encoded data removed]",
      "text/plain": [
       "<Figure size 720x432 with 1 Axes>"
      ]
     },
     "metadata": {
      "needs_background": "light"
     },
     "output_type": "display_data"
    }
   ],
   "source": [
    "plt.figure(figsize=(10,6))\n",
    "pod=sns.countplot(x='Products', data=df_exited)\n",
    "for p in pod.patches:\n",
    "    height=p.get_height()\n",
    "    pod.text(p.get_x()+p.get_width()/2., height+3, '{:1.3f}%'.format((height/total)*100), ha='center')\n",
    "plt.title('Count of most produts churned customers used')\n",
    "plt.xlabel('Products')\n",
    "plt.show()"
   ]
  },
  {
   "cell_type": "markdown",
   "id": "6010ad3a",
   "metadata": {},
   "source": [
    "__Model Building__"
   ]
  },
  {
   "cell_type": "code",
   "execution_count": 314,
   "id": "e8bd6cd0",
   "metadata": {},
   "outputs": [
    {
     "data": {
      "text/plain": [
       "array([[619, 'France', 'Female', ..., 1, 1, 101348.88],\n",
       "       [608, 'Spain', 'Female', ..., 0, 1, 112542.58],\n",
       "       [502, 'France', 'Female', ..., 1, 0, 113931.57],\n",
       "       ...,\n",
       "       [709, 'France', 'Female', ..., 0, 1, 42085.58],\n",
       "       [772, 'Germany', 'Male', ..., 1, 0, 92888.52],\n",
       "       [792, 'France', 'Female', ..., 1, 0, 38190.78]], dtype=object)"
      ]
     },
     "execution_count": 314,
     "metadata": {},
     "output_type": "execute_result"
    }
   ],
   "source": [
    "X=df.iloc[:, 3:-1].values\n",
    "y=df.iloc[:, -1].values\n",
    "X"
   ]
  },
  {
   "cell_type": "code",
   "execution_count": 315,
   "id": "d2669bba",
   "metadata": {},
   "outputs": [
    {
     "data": {
      "text/plain": [
       "array([1.0, 0.0, 0.0, 1.0, 0.0, 619, 42, 2, 0.0, 1, 1, 1, 101348.88],\n",
       "      dtype=object)"
      ]
     },
     "execution_count": 315,
     "metadata": {},
     "output_type": "execute_result"
    }
   ],
   "source": [
    "from sklearn.compose import ColumnTransformer\n",
    "from sklearn.preprocessing import OneHotEncoder\n",
    "ct=ColumnTransformer(transformers=[('encoder', OneHotEncoder(), [1,2])], remainder='passthrough')\n",
    "X=np.asarray(ct.fit_transform(X))\n",
    "X[0]"
   ]
  },
  {
   "cell_type": "code",
   "execution_count": 359,
   "id": "6d288fa7",
   "metadata": {},
   "outputs": [],
   "source": [
    "from sklearn.model_selection import train_test_split, GridSearchCV, RandomizedSearchCV, KFold, cross_val_score\n",
    "X_train, X_test, y_train, y_test= train_test_split(X,y)\n"
   ]
  },
  {
   "cell_type": "code",
   "execution_count": 317,
   "id": "1a0e2c9e",
   "metadata": {},
   "outputs": [],
   "source": [
    "from sklearn.tree import DecisionTreeClassifier\n",
    "from sklearn.svm import SVC\n",
    "from sklearn.ensemble import RandomForestClassifier\n",
    "from sklearn.ensemble import AdaBoostClassifier\n",
    "from sklearn.neighbors import KNeighborsClassifier"
   ]
  },
  {
   "cell_type": "code",
   "execution_count": 343,
   "id": "513b42cb",
   "metadata": {},
   "outputs": [],
   "source": [
    "dec=DecisionTreeClassifier()\n",
    "svm=SVC(kernel='rbf')\n",
    "rfc=RandomForestClassifier()\n",
    "ad=AdaBoostClassifier()\n",
    "knn=KNeighborsClassifier(n_neighbors=7)"
   ]
  },
  {
   "cell_type": "code",
   "execution_count": 344,
   "id": "ae8274e1",
   "metadata": {},
   "outputs": [
    {
     "data": {
      "text/plain": [
       "KNeighborsClassifier(n_neighbors=7)"
      ]
     },
     "execution_count": 344,
     "metadata": {},
     "output_type": "execute_result"
    }
   ],
   "source": [
    "dec.fit(X_train, y_train)\n",
    "svm.fit(X_train, y_train)\n",
    "rfc.fit(X_train, y_train)\n",
    "ad.fit(X_train, y_train)\n",
    "knn.fit(X_train, y_train)"
   ]
  },
  {
   "cell_type": "code",
   "execution_count": 358,
   "id": "c5255ece",
   "metadata": {},
   "outputs": [],
   "source": [
    "from sklearn.metrics import accuracy_score, fbeta_score, make_scorer\n",
    "from sklearn.metrics import precision_score, recall_score"
   ]
  },
  {
   "cell_type": "code",
   "execution_count": 346,
   "id": "1aa9f588",
   "metadata": {},
   "outputs": [],
   "source": [
    "pred_rf=rfc.predict(X_test)\n",
    "pred_dt=dec.predict(X_test)\n",
    "pred_sv=svm.predict(X_test)\n",
    "pred_ada=ad.predict(X_test)\n",
    "pred_kn=knn.predict(X_test)"
   ]
  },
  {
   "cell_type": "code",
   "execution_count": 347,
   "id": "74275f75",
   "metadata": {},
   "outputs": [
    {
     "name": "stdout",
     "output_type": "stream",
     "text": [
      "0.8652\n",
      "0.8044\n",
      "0.7972\n",
      "0.8628\n",
      "0.7696\n"
     ]
    }
   ],
   "source": [
    "print(accuracy_score(y_test, pred_rf))\n",
    "print(accuracy_score(y_test, pred_dt))\n",
    "print(accuracy_score(y_test, pred_sv))\n",
    "print(accuracy_score(y_test, pred_ada))\n",
    "print(accuracy_score(y_test, pred_kn))"
   ]
  },
  {
   "cell_type": "markdown",
   "id": "bda8408c",
   "metadata": {},
   "source": [
    "The random forest classifier seems to have the highest accuracy. "
   ]
  },
  {
   "cell_type": "code",
   "execution_count": 348,
   "id": "c29e895c",
   "metadata": {},
   "outputs": [
    {
     "name": "stdout",
     "output_type": "stream",
     "text": [
      "0.8763636363636363\n",
      "0.87865055387714\n",
      "0.7972\n",
      "0.883008356545961\n",
      "0.7988190636862084\n"
     ]
    }
   ],
   "source": [
    "print(precision_score(y_test, pred_rf, pos_label=0))\n",
    "print(precision_score(y_test, pred_dt, pos_label=0))\n",
    "print(precision_score(y_test, pred_sv, pos_label=0))\n",
    "print(precision_score(y_test, pred_ada, pos_label=0))\n",
    "print(precision_score(y_test, pred_kn, pos_label=0))"
   ]
  },
  {
   "cell_type": "markdown",
   "id": "527abaf0",
   "metadata": {},
   "source": [
    "The adaboost model produces the highest precision score"
   ]
  },
  {
   "cell_type": "code",
   "execution_count": 349,
   "id": "3d39747a",
   "metadata": {},
   "outputs": [
    {
     "name": "stdout",
     "output_type": "stream",
     "text": [
      "0.9673858504766684\n",
      "0.8755644756648269\n",
      "1.0\n",
      "0.9543401906673357\n",
      "0.9503261414952333\n"
     ]
    }
   ],
   "source": [
    "print(recall_score(y_test, pred_rf, pos_label=0))\n",
    "print(recall_score(y_test, pred_dt, pos_label=0))\n",
    "print(recall_score(y_test, pred_sv, pos_label=0))\n",
    "print(recall_score(y_test, pred_ada, pos_label=0))\n",
    "print(recall_score(y_test, pred_kn, pos_label=0))"
   ]
  },
  {
   "cell_type": "markdown",
   "id": "d8e3acc3",
   "metadata": {},
   "source": [
    "The SVM model produces a perfect recall score. We need to define a metric that would fit the model being produced. \n",
    "For this model, we are very much interested in how much of our predictions are correct. That is, out of the customers we predicted to leave, how many actually exited the service. This is computed using the precision score. \n",
    "We might also be interested in knowing how of the exited customers we correctly predicted, this is computed using the recall score. \n",
    "We can thus create an f beta score to accommodate both metrics. We would use a better of 0.3, since we are most interested in precision.                                                         "
   ]
  },
  {
   "cell_type": "code",
   "execution_count": 350,
   "id": "b1e8cd4a",
   "metadata": {},
   "outputs": [
    {
     "name": "stdout",
     "output_type": "stream",
     "text": [
      "F-beta score for random forest: 0.8832253915952544\n",
      "F-beta score for decision tree: 0.8783949163422418\n",
      "F-beta score for SVM: 0.8107764138584818\n",
      "F-beta score for ada boost: 0.8884917522724644\n",
      "F-beta score for KNN: 0.8094747036704479\n"
     ]
    }
   ],
   "source": [
    "print('F-beta score for random forest:', fbeta_score(y_test, pred_rf, beta=0.3, pos_label=0))\n",
    "print('F-beta score for decision tree:', fbeta_score(y_test, pred_dt, beta=0.3, pos_label=0))\n",
    "print('F-beta score for SVM:', fbeta_score(y_test, pred_sv, beta=0.3, pos_label=0))\n",
    "print('F-beta score for ada boost:', fbeta_score(y_test, pred_ada, beta=0.3, pos_label=0))\n",
    "print('F-beta score for KNN:', fbeta_score(y_test, pred_kn, beta=0.3, pos_label=0))"
   ]
  },
  {
   "cell_type": "markdown",
   "id": "7091f64e",
   "metadata": {},
   "source": [
    "The adaboost classifier has the best f beta score with the random forest classifier coming in a close second"
   ]
  },
  {
   "cell_type": "markdown",
   "id": "e45bb244",
   "metadata": {},
   "source": [
    "__Hyperparameter Tuning__"
   ]
  },
  {
   "cell_type": "markdown",
   "id": "ef03f7a2",
   "metadata": {},
   "source": [
    "Trying some hyperparameter tuning to see if we get better results."
   ]
  },
  {
   "cell_type": "code",
   "execution_count": 341,
   "id": "9bd93010",
   "metadata": {},
   "outputs": [
    {
     "name": "stdout",
     "output_type": "stream",
     "text": [
      "F-beta score for random forest: 0.8809289215380586\n"
     ]
    }
   ],
   "source": [
    "p_grid={'n_estimators':[ 1, 10, 20, 50], 'max_depth':[1,2,10, 20]}\n",
    "search=GridSearchCV(estimator=rfc, param_grid=p_grid)\n",
    "search.fit(X_train,y_train)\n",
    "rf_preds=search.best_estimator_\n",
    "y_preds=rf_preds.predict(X_test)\n",
    "print('F-beta score for random forest:', fbeta_score(y_test, y_preds, beta=0.3,pos_label=0 ))\n",
    "\n"
   ]
  },
  {
   "cell_type": "code",
   "execution_count": 366,
   "id": "5eaead4e",
   "metadata": {},
   "outputs": [
    {
     "name": "stdout",
     "output_type": "stream",
     "text": [
      "F-beta score for adaboost: 0.8702229132088157\n"
     ]
    }
   ],
   "source": [
    "p_grid={'n_estimators':[1, 10, 100], 'learning_rate':[0.01, 0.1, 1]}\n",
    "search=GridSearchCV(estimator=ad, param_grid=p_grid)\n",
    "search.fit(X_train,y_train)\n",
    "ada_preds=search.best_estimator_\n",
    "y_preds=ada_preds.predict(X_test)\n",
    "print('F-beta score for adaboost:', fbeta_score(y_test, y_preds, beta=0.3,pos_label=0 ))"
   ]
  },
  {
   "cell_type": "code",
   "execution_count": 351,
   "id": "91f5f77a",
   "metadata": {},
   "outputs": [
    {
     "name": "stdout",
     "output_type": "stream",
     "text": [
      "F-beta score for SVM: 0.8107764138584818\n"
     ]
    }
   ],
   "source": [
    "p_grid={'C':[0.01, 0.1, 10, 100]}\n",
    "search=GridSearchCV(estimator=svm, param_grid=p_grid)\n",
    "search.fit(X_train,y_train)\n",
    "svm_preds=search.best_estimator_\n",
    "y_preds=svm_preds.predict(X_test)\n",
    "print('F-beta score for SVM:', fbeta_score(y_test, y_preds, beta=0.3,pos_label=0 ))"
   ]
  },
  {
   "cell_type": "markdown",
   "id": "f7ef2a05",
   "metadata": {},
   "source": [
    "Hyperparameter tuning does not seem to do much to model performance. Trying out a 10 fold cross validation technique for the adaboost classifier to see if it overfits."
   ]
  },
  {
   "cell_type": "code",
   "execution_count": 363,
   "id": "823f504b",
   "metadata": {},
   "outputs": [
    {
     "name": "stdout",
     "output_type": "stream",
     "text": [
      "0.8827674679954463\n",
      "0.8817201973735941\n",
      "0.8821247995545468\n",
      "0.8815954675476473\n",
      "0.8817292845803542\n"
     ]
    }
   ],
   "source": [
    "f_scorer = make_scorer(fbeta_score, beta=0.3, pos_label=0)\n",
    "for i in range(5):\n",
    "    outer_cv=KFold(n_splits=10, shuffle= True)\n",
    "    scores = cross_val_score(ada, X, y, scoring=f_scorer, cv=outer_cv)\n",
    "    print(np.mean(scores))"
   ]
  },
  {
   "cell_type": "code",
   "execution_count": 365,
   "id": "e9cbae35",
   "metadata": {},
   "outputs": [
    {
     "name": "stdout",
     "output_type": "stream",
     "text": [
      "0.8820551740854625\n",
      "0.8823424838896761\n",
      "0.8808078863245139\n",
      "0.8819015677071407\n",
      "0.8824574070746649\n"
     ]
    }
   ],
   "source": [
    "f_scorer = make_scorer(fbeta_score, beta=0.3, pos_label=0)\n",
    "for i in range(5):\n",
    "    outer_cv=KFold(n_splits=10, shuffle= True)\n",
    "    scores = cross_val_score(rfc, X, y, scoring=f_scorer, cv=outer_cv)\n",
    "    print(np.mean(scores))"
   ]
  },
  {
   "cell_type": "markdown",
   "id": "7a573197",
   "metadata": {},
   "source": [
    "The adaboost classifier seems to be slightly overfitting unlike the random forest. It might be advisable to stick with the random forest model for this prediction."
   ]
  },
  {
   "cell_type": "code",
   "execution_count": null,
   "id": "a8a99f7e",
   "metadata": {},
   "outputs": [],
   "source": []
  }
 ],
 "metadata": {
  "kernelspec": {
   "display_name": "Python 3 (ipykernel)",
   "language": "python",
   "name": "python3"
  },
  "language_info": {
   "codemirror_mode": {
    "name": "ipython",
    "version": 3
   },
   "file_extension": ".py",
   "mimetype": "text/x-python",
   "name": "python",
   "nbconvert_exporter": "python",
   "pygments_lexer": "ipython3",
   "version": "3.9.7"
  }
 },
 "nbformat": 4,
 "nbformat_minor": 5
}
